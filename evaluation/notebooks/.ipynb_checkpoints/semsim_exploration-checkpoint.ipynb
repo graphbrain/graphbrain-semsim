{
 "cells": [
  {
   "cell_type": "code",
   "execution_count": 1,
   "metadata": {
    "pycharm": {
     "is_executing": true
    },
    "tags": []
   },
   "outputs": [],
   "source": [
    "import logging\n",
    "import inspect\n",
    "from pathlib import Path\n",
    "\n",
    "import graphbrain\n",
    "from graphbrain import hgraph\n",
    "from graphbrain.notebook import show"
   ]
  },
  {
   "cell_type": "code",
   "execution_count": 2,
   "metadata": {
    "collapsed": false,
    "jupyter": {
     "outputs_hidden": false
    },
    "pycharm": {
     "is_executing": true
    }
   },
   "outputs": [],
   "source": [
    "logger = logging.getLogger()\n",
    "logging.basicConfig(format='[{asctime}] {name}: {message}', style='{', level=logging.INFO)"
   ]
  },
  {
   "cell_type": "code",
   "execution_count": 3,
   "metadata": {
    "collapsed": false,
    "jupyter": {
     "outputs_hidden": false
    },
    "pycharm": {
     "is_executing": true
    }
   },
   "outputs": [],
   "source": [
    "hg_dir = Path(inspect.getfile(graphbrain)).parents[2] / 'hypergraphs'"
   ]
  },
  {
   "cell_type": "code",
   "execution_count": 4,
   "metadata": {
    "collapsed": false,
    "jupyter": {
     "outputs_hidden": false
    },
    "pycharm": {
     "is_executing": true
    }
   },
   "outputs": [],
   "source": [
    "HG_NAME = \"reddit-worldnews-01012013-01082017.hg\""
   ]
  },
  {
   "cell_type": "code",
   "execution_count": 5,
   "metadata": {
    "collapsed": false,
    "jupyter": {
     "outputs_hidden": false
    },
    "pycharm": {
     "is_executing": true
    }
   },
   "outputs": [],
   "source": [
    "hg = hgraph(str(hg_dir / HG_NAME))\n"
   ]
  },
  {
   "cell_type": "code",
   "execution_count": 6,
   "metadata": {
    "pycharm": {
     "is_executing": true
    }
   },
   "outputs": [],
   "source": [
    "# original pattern:\n",
    "# '( PRED/P.{so,x} SOURCE/C TARGET/C [against,for,of,over]/T TOPIC/[RS] ) ∧ ( lemma/J >PRED/P [accuse,arrest,clash,condemn,kill,slam,warn]/P )'\n",
    "\n",
    "\n",
    "# conflict_pattern = '( (lemma warn)/P.{so,x} SOURCE/C TARGET/C ( (any against/T for/T of/T over/T) (any TOPIC/R TOPIC/S) ) )'\n",
    "# conflict_pattern = '( warns/P.{so,x} SOURCE/C TARGET/C (against/T (any TOPIC/R TOPIC/S) ) )'  # working!\n",
    "# conflict_pattern = '( PRED/P.{so,x} SOURCE/C TARGET/C (against/T (any TOPIC/R TOPIC/S) ) ) ∧ ( any (lemma/J >PRED/P accuse) (lemma/J >PRED/P accuse) )'"
   ]
  },
  {
   "cell_type": "code",
   "execution_count": 7,
   "metadata": {},
   "outputs": [],
   "source": [
    "def make_any_func_pattern(words_and_vars: list[str],\n",
    "                          inner_funcs: list[str] | None = None,\n",
    "                          arg_roles: list[str] | None = None):\n",
    "\n",
    "    inner_patterns: list[str] = []\n",
    "    for wav in words_and_vars:\n",
    "        inner_patterns_ar: list[str] = []\n",
    "        if arg_roles:\n",
    "            for arg_role in arg_roles:\n",
    "                inner_pattern_ar = f\"{wav}/{arg_role}\"\n",
    "                inner_patterns_ar.append(inner_pattern_ar)\n",
    "        else:\n",
    "            inner_patterns_ar.append(wav)\n",
    "\n",
    "        for inner_pattern in inner_patterns_ar:\n",
    "            if inner_funcs:\n",
    "                for func in inner_funcs:\n",
    "                    inner_pattern = f\"({func} {inner_pattern})\"\n",
    "            inner_patterns.append(inner_pattern)\n",
    "\n",
    "    inner_patterns_joined = \" \".join(inner_patterns)\n",
    "    return f\"(any {inner_patterns_joined})\"\n",
    "        \n",
    "# make_any_func_pattern([\"warn\", \"accuse\"], inner_funcs = [\"lemma\"], arg_roles = \"P.{so,x}\")"
   ]
  },
  {
   "cell_type": "code",
   "execution_count": 8,
   "metadata": {},
   "outputs": [],
   "source": [
    "# '( PRED/P.{so,x} SOURCE/C TARGET/C [against,for,of,over]/T TOPIC/[RS] ) ∧ ( lemma/J >PRED/P [accuse,arrest,clash,condemn,kill,slam,warn]/P )'\n"
   ]
  },
  {
   "cell_type": "code",
   "execution_count": 9,
   "metadata": {},
   "outputs": [],
   "source": [
    "preds = [\"accuse\", \"arrest\", \"clash\", \"condemn\", \"kill\", \"slam\", \"warn\"]\n",
    "preps = [\"against\", \"for\", \"of\", \"over\"]"
   ]
  },
  {
   "cell_type": "code",
   "execution_count": 10,
   "metadata": {},
   "outputs": [
    {
     "name": "stdout",
     "output_type": "stream",
     "text": [
      "PRED pattern: (any (lemma accuse/P.{so,x}) (lemma arrest/P.{so,x}) (lemma clash/P.{so,x}) (lemma condemn/P.{so,x}) (lemma kill/P.{so,x}) (lemma slam/P.{so,x}) (lemma warn/P.{so,x}))\n",
      "PREP pattern: (any against/T for/T of/T over/T)\n",
      "TOPIC pattern: (any TOPIC/R TOPIC/S)\n",
      "--- conflict pattern ---\n",
      "( (var (any (lemma accuse/P.{so,x}) (lemma arrest/P.{so,x}) (lemma clash/P.{so,x}) (lemma condemn/P.{so,x}) (lemma kill/P.{so,x}) (lemma slam/P.{so,x}) (lemma warn/P.{so,x})) PRED) SOURCE/C TARGET/C ((any against/T for/T of/T over/T) (any TOPIC/R TOPIC/S)) )\n"
     ]
    }
   ],
   "source": [
    "pred_pattern = make_any_func_pattern(preds, inner_funcs=[\"lemma\"], arg_roles=[\"P.{so,x}\"])\n",
    "print(f\"PRED pattern: {pred_pattern}\")\n",
    "\n",
    "prep_pattern = make_any_func_pattern(preps, arg_roles=[\"T\"])\n",
    "print(f\"PREP pattern: {prep_pattern}\")   \n",
    "\n",
    "topic_pattern = make_any_func_pattern([\"TOPIC\"], arg_roles=[\"R\", \"S\"])\n",
    "print(f\"TOPIC pattern: {topic_pattern}\")   \n",
    "\n",
    "\n",
    "conflict_pattern = f\"( (var {pred_pattern} PRED) SOURCE/C TARGET/C ({prep_pattern} {topic_pattern}) )\"\n",
    "print(\"--- conflict pattern ---\")\n",
    "print(conflict_pattern)"
   ]
  },
  {
   "cell_type": "code",
   "execution_count": null,
   "metadata": {},
   "outputs": [],
   "source": [
    "for edge in hg.search(conflict_pattern):\n",
    "    show(edge)\n",
    "    print(hg.text(edge))\n",
    "    print(\"-----\")\n",
    "    # input(\"Press Enter\")"
   ]
  }
 ],
 "metadata": {
  "kernelspec": {
   "display_name": "graphbrain-semsim",
   "language": "python",
   "name": "pyenv_graphbrain-semsim"
  },
  "language_info": {
   "codemirror_mode": {
    "name": "ipython",
    "version": 3
   },
   "file_extension": ".py",
   "mimetype": "text/x-python",
   "name": "python",
   "nbconvert_exporter": "python",
   "pygments_lexer": "ipython3",
   "version": "3.10.8"
  }
 },
 "nbformat": 4,
 "nbformat_minor": 4
}
